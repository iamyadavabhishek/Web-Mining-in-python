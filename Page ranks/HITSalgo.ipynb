{
 "cells": [
  {
   "cell_type": "code",
   "execution_count": 1,
   "id": "feefdd2d",
   "metadata": {},
   "outputs": [],
   "source": [
    "#importing the necessary libraries needed for our program\n",
    "import matplotlib.pyplot as plt #to plot the directed graph\n",
    "import networkx as nx #to create the directed graph\n",
    "import numpy as np #to work with arrays\n",
    "G = nx.DiGraph() #we initialize the directed graph in variable G"
   ]
  },
  {
   "cell_type": "code",
   "execution_count": 7,
   "id": "f231788e",
   "metadata": {},
   "outputs": [
    {
     "name": "stdout",
     "output_type": "stream",
     "text": [
      "enter the no. of nodes 6\n",
      "enter the number of outlinks in 1 3\n",
      "2\n",
      "3\n",
      "4\n",
      "enter the number of outlinks in 2 3\n",
      "1\n",
      "3\n",
      "4\n",
      "enter the number of outlinks in 3 2\n",
      "1\n",
      "4\n",
      "enter the number of outlinks in 4 3\n",
      "3\n",
      "4\n",
      "5\n",
      "enter the number of outlinks in 5 3\n",
      "2\n",
      "3\n",
      "4\n",
      "enter the number of outlinks in 6 1\n",
      "1\n"
     ]
    }
   ],
   "source": [
    "n = int(input(\"enter the no. of nodes \"))\n",
    "edges = []\n",
    "for i in range(1,n+1):\n",
    "    for _ in range(1,int(input(\"enter the number of outlinks in {} \".format(i)))+1):\n",
    "        eval(\"edges.append(({},int(input())))\".format(i))"
   ]
  },
  {
   "cell_type": "code",
   "execution_count": 21,
   "id": "96308db5",
   "metadata": {},
   "outputs": [
    {
     "name": "stdout",
     "output_type": "stream",
     "text": [
      "[(1, 2), (1, 3), (1, 4), (2, 1), (2, 3), (2, 4), (3, 1), (3, 4), (4, 3), (4, 5), (5, 2), (5, 3), (5, 4), (6, 1)]\n"
     ]
    },
    {
     "data": {
      "image/png": "[encoded data removed]",
      "text/plain": [
       "<Figure size 432x288 with 1 Axes>"
      ]
     },
     "metadata": {},
     "output_type": "display_data"
    }
   ],
   "source": [
    "edges1 = edges\n",
    "for u,v in edges1:\n",
    "    if u==v:\n",
    "        edges1.remove((u,v))\n",
    "print(edges1)\n",
    "G.add_edges_from(edges1)\n",
    "nx.draw_networkx(G,with_labels = True, node_color = \"blue\")"
   ]
  },
  {
   "cell_type": "code",
   "execution_count": 74,
   "id": "3650bb57",
   "metadata": {},
   "outputs": [
    {
     "name": "stdout",
     "output_type": "stream",
     "text": [
      "[1. 1. 1. 1. 1. 1.]\n"
     ]
    }
   ],
   "source": [
    "hubValues = np.ones(n,dtype = float)\n",
    "print(hubValues)\n",
    "authValues = np.empty(n)"
   ]
  },
  {
   "cell_type": "code",
   "execution_count": 75,
   "id": "e59c33e7",
   "metadata": {},
   "outputs": [],
   "source": [
    "def calcAuthority(i):\n",
    "    pages = list(G.predecessors(i))\n",
    "    return sum([hubValues[i-1] for i in pages])"
   ]
  },
  {
   "cell_type": "code",
   "execution_count": 76,
   "id": "e3c76acd",
   "metadata": {},
   "outputs": [],
   "source": [
    "def calcHub(i):\n",
    "    pages = list(G.successors(i))\n",
    "    return sum([authValues[i-1] for i in pages])"
   ]
  },
  {
   "cell_type": "code",
   "execution_count": 77,
   "id": "0bd33c8d",
   "metadata": {},
   "outputs": [],
   "source": [
    "for i in range(1,n+1):\n",
    "    authValues[i-1] = calcAuthority(i)"
   ]
  },
  {
   "cell_type": "code",
   "execution_count": 78,
   "id": "83c1a4f0",
   "metadata": {},
   "outputs": [
    {
     "name": "stdout",
     "output_type": "stream",
     "text": [
      "[3. 2. 4. 4. 1. 0.]\n"
     ]
    }
   ],
   "source": [
    "print(authValues)"
   ]
  },
  {
   "cell_type": "code",
   "execution_count": 79,
   "id": "60673046",
   "metadata": {},
   "outputs": [],
   "source": [
    "#normalisation of authValues\n",
    "authValues = authValues/sum(authValues)"
   ]
  },
  {
   "cell_type": "code",
   "execution_count": 80,
   "id": "9538d091",
   "metadata": {},
   "outputs": [
    {
     "name": "stdout",
     "output_type": "stream",
     "text": [
      "[0.21428571 0.14285714 0.28571429 0.28571429 0.07142857 0.        ]\n"
     ]
    }
   ],
   "source": [
    "print(authValues)"
   ]
  },
  {
   "cell_type": "code",
   "execution_count": 81,
   "id": "c4547d2d",
   "metadata": {},
   "outputs": [],
   "source": [
    "for i in range(1,n+1):\n",
    "    hubValues[i-1] = calcHub(i)"
   ]
  },
  {
   "cell_type": "code",
   "execution_count": 82,
   "id": "4c418c1e",
   "metadata": {},
   "outputs": [
    {
     "name": "stdout",
     "output_type": "stream",
     "text": [
      "[0.71428571 0.78571429 0.5        0.35714286 0.71428571 0.21428571]\n"
     ]
    }
   ],
   "source": [
    "print(hubValues)"
   ]
  },
  {
   "cell_type": "code",
   "execution_count": 83,
   "id": "e92ff488",
   "metadata": {},
   "outputs": [],
   "source": [
    "#normalisation of hubValues\n",
    "hubValues = hubValues/sum(hubValues)"
   ]
  },
  {
   "cell_type": "code",
   "execution_count": 84,
   "id": "60440587",
   "metadata": {},
   "outputs": [
    {
     "name": "stdout",
     "output_type": "stream",
     "text": [
      "[0.2173913  0.23913043 0.15217391 0.10869565 0.2173913  0.06521739]\n"
     ]
    }
   ],
   "source": [
    "print(hubValues)"
   ]
  },
  {
   "cell_type": "code",
   "execution_count": 85,
   "id": "3d14ebf9",
   "metadata": {},
   "outputs": [],
   "source": [
    "for _ in range(15):\n",
    "    for i in range(1,n+1):\n",
    "        authValues[i-1] = calcAuthority(i)\n",
    "    authValues = authValues/sum(authValues)\n",
    "    for j in range(1,n+1):\n",
    "        hubValues[j-1] = calcHub(j)\n",
    "    hubValues = hubValues/sum(hubValues)"
   ]
  },
  {
   "cell_type": "code",
   "execution_count": 86,
   "id": "af4f250b",
   "metadata": {},
   "outputs": [
    {
     "name": "stdout",
     "output_type": "stream",
     "text": [
      "[0.15817014 0.17919254 0.3046773  0.31972766 0.03823236 0.        ]\n",
      "[0.23854488 0.23230446 0.14186215 0.10179143 0.23854488 0.04695221]\n"
     ]
    }
   ],
   "source": [
    "print(authValues,hubValues,sep = '\\n')"
   ]
  },
  {
   "cell_type": "code",
   "execution_count": 88,
   "id": "e6d14851",
   "metadata": {},
   "outputs": [],
   "source": [
    "import pandas as pd\n",
    "\n",
    "pd.DataFrame()"
   ]
  },
  {
   "cell_type": "code",
   "execution_count": 103,
   "id": "f64c8381",
   "metadata": {},
   "outputs": [
    {
     "name": "stdout",
     "output_type": "stream",
     "text": [
      "  site-name  Normalized Hub Score  Normalized Authority Score\n",
      "0         A              0.238545                    0.158170\n",
      "1         B              0.232304                    0.179193\n",
      "2         C              0.141862                    0.304677\n",
      "3         D              0.101791                    0.319728\n",
      "4         E              0.238545                    0.038232\n",
      "5         F              0.046952                    0.000000\n"
     ]
    }
   ],
   "source": [
    "d = dict()\n",
    "d = {\"site-name\" : [chr(65+i) for i in range(n)],\n",
    "    \"Normalized Hub Score\" : hubValues,\n",
    "    \"Normalized Authority Score\" : authValues}\n",
    "df = pd.DataFrame(d)\n",
    "print(df)"
   ]
  },
  {
   "cell_type": "code",
   "execution_count": null,
   "id": "d1860bf7",
   "metadata": {},
   "outputs": [],
   "source": []
  }
 ],
 "metadata": {
  "kernelspec": {
   "display_name": "Python 3 (ipykernel)",
   "language": "python",
   "name": "python3"
  },
  "language_info": {
   "codemirror_mode": {
    "name": "ipython",
    "version": 3
   },
   "file_extension": ".py",
   "mimetype": "text/x-python",
   "name": "python",
   "nbconvert_exporter": "python",
   "pygments_lexer": "ipython3",
   "version": "3.8.11"
  }
 },
 "nbformat": 4,
 "nbformat_minor": 5
}
