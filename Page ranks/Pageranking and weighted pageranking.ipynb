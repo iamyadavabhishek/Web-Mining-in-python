{
 "cells": [
  {
   "cell_type": "code",
   "execution_count": 2,
   "id": "f2a28303",
   "metadata": {},
   "outputs": [],
   "source": [
    "#importing the necessary libraries needed for our program\n",
    "import matplotlib.pyplot as plt #to plot the directed graph\n",
    "import networkx as nx #to create the directed graph\n",
    "import numpy as np #to work with arrays\n",
    "G = nx.DiGraph() #we initialize the directed graph in variable G"
   ]
  },
  {
   "cell_type": "code",
   "execution_count": 3,
   "id": "beb5c929",
   "metadata": {},
   "outputs": [
    {
     "name": "stdout",
     "output_type": "stream",
     "text": [
      "4 1\n",
      "1 2\n",
      "1 3\n",
      "2 3\n",
      "3 2\n",
      "\n"
     ]
    }
   ],
   "source": [
    "edges = [] #these are the list of the edges that the user will put\n",
    "condition = 1\n",
    "while(condition):\n",
    "    i = input() #take input of the edge from the user\n",
    "    inp = tuple(map(int,i.split())) #turn it into a tuple using map function\n",
    "    if(inp): #check if user has given an input or not\n",
    "        edges.append(inp) #if yes, append the input in the edge list\n",
    "    else:\n",
    "        condition = 0 #else stop the loop"
   ]
  },
  {
   "cell_type": "code",
   "execution_count": 4,
   "id": "0e5661e9",
   "metadata": {},
   "outputs": [
    {
     "data": {
      "image/png": "[encoded data removed]",
      "text/plain": [
       "<Figure size 432x288 with 1 Axes>"
      ]
     },
     "metadata": {},
     "output_type": "display_data"
    }
   ],
   "source": [
    "G.add_edges_from(edges) #add the edges to the graph\n",
    "nx.draw_networkx(G, with_labels = True, node_color = \"blue\") #display the graph"
   ]
  },
  {
   "cell_type": "code",
   "execution_count": 5,
   "id": "50d64e68",
   "metadata": {},
   "outputs": [
    {
     "name": "stdout",
     "output_type": "stream",
     "text": [
      "enter damping factor 0.85\n",
      "enter no. of iterations 52\n",
      "0.85 52\n"
     ]
    }
   ],
   "source": [
    "d = float(input(\"enter damping factor \")) #take the input of the damping from the user\n",
    "iterations =  int(input(\"enter no. of iterations \")) #take the input for iterations\n",
    "print(d, iterations)"
   ]
  },
  {
   "cell_type": "code",
   "execution_count": 6,
   "id": "08903a8a",
   "metadata": {},
   "outputs": [
    {
     "name": "stdout",
     "output_type": "stream",
     "text": [
      "[[4], [1, 3], [1, 2], []]\n"
     ]
    }
   ],
   "source": [
    "prefer = [list(G.predecessors(i+1)) for i in range(G.number_of_nodes())] #G.predecessors get the nodes which refer \n",
    "                                                                         #to the node mentioned. prefer get the predecessors\n",
    "                                                                         #of every node in ascending order\n",
    "print(prefer)"
   ]
  },
  {
   "cell_type": "code",
   "execution_count": 7,
   "id": "4dadac1d",
   "metadata": {},
   "outputs": [
    {
     "name": "stdout",
     "output_type": "stream",
     "text": [
      "[1. 1. 1. 1.]\n"
     ]
    }
   ],
   "source": [
    "pageRankings = np.ones(G.number_of_nodes(), dtype = float) #initiating the pr of every page with one using np.ones\n",
    "print(pageRankings)"
   ]
  },
  {
   "cell_type": "code",
   "execution_count": 8,
   "id": "ee5f32d3",
   "metadata": {},
   "outputs": [],
   "source": [
    "def pr(i): #function to get pr of a page i\n",
    "    l = list(G.predecessors(i)) #get all the pages referring to the page i\n",
    "    pagesReffered = 0\n",
    "    for i in l:\n",
    "        pagesReffered += pageRankings[i-1]/G.out_degree()[i] #get the value of pagesReffered as the pr of pages referring to i\n",
    "                                                             #divided by their outlinks which we get from G.out_degree()\n",
    "    return ((1-d) + d*(pagesReffered)) #apply the formula of pr and return the value"
   ]
  },
  {
   "cell_type": "code",
   "execution_count": 9,
   "id": "d465ca20",
   "metadata": {},
   "outputs": [],
   "source": [
    "#first iteration\n",
    "for i in range(G.number_of_nodes()):\n",
    "    pageRankings[i] = pr(i+1)"
   ]
  },
  {
   "cell_type": "code",
   "execution_count": 10,
   "id": "8f7d29d1",
   "metadata": {},
   "outputs": [
    {
     "name": "stdout",
     "output_type": "stream",
     "text": [
      "[1.      1.425   1.78625 0.15   ]\n"
     ]
    }
   ],
   "source": [
    "print(pageRankings) #after one iteration"
   ]
  },
  {
   "cell_type": "code",
   "execution_count": 11,
   "id": "a4973fd1",
   "metadata": {},
   "outputs": [],
   "source": [
    "for _ in range(iterations): #apply the same for the number of iterations specified by the user\n",
    "    for i in range(G.number_of_nodes()):\n",
    "        pageRankings[i] = pr(i+1)"
   ]
  },
  {
   "cell_type": "code",
   "execution_count": 12,
   "id": "22b799a8",
   "metadata": {},
   "outputs": [
    {
     "name": "stdout",
     "output_type": "stream",
     "text": [
      "[0.2775  1.78625 1.78625 0.15   ]\n"
     ]
    }
   ],
   "source": [
    "print(pageRankings) #final pageRankings of the pages"
   ]
  },
  {
   "cell_type": "code",
   "execution_count": 13,
   "id": "09470fff",
   "metadata": {},
   "outputs": [],
   "source": [
    "def wpr(u): #function to calculate weighted average\n",
    "    l = list(G.predecessors(u))\n",
    "    pagesReffered = 0\n",
    "    for v in l:\n",
    "        win = G.in_degree()[u]/sum([G.in_degree()[i] for i in G.successors(v)]) #to calculate Win of the referring pages\n",
    "                                                                                #in_degree(inlinks) of the page u/sum of \n",
    "                                                                                #in_degree(inlinks) of the referred pages of v\n",
    "        wout = G.out_degree()[u]/sum([G.out_degree()[i] for i in G.successors(v)]) #to calculate Wout of the referring pages\n",
    "                                                                                #out_degree(outlinks) of the page u/sum of \n",
    "                                                                                #out_degree(outlinks) of the referred pages of v\n",
    "        pagesReffered += pageRankings[v-1]*win*wout #multiply it with the pr of v\n",
    "    return ((1-d) + d*(pagesReffered)) #apply the formula of wpr and return it"
   ]
  },
  {
   "cell_type": "code",
   "execution_count": 16,
   "id": "5717ce7d",
   "metadata": {},
   "outputs": [
    {
     "name": "stdout",
     "output_type": "stream",
     "text": [
      "[1. 1. 1. 1.]\n"
     ]
    }
   ],
   "source": [
    "weightedPageRankings = np.ones(G.number_of_nodes(), dtype = float) #initiating the wpr of every page with one using np.ones\n",
    "print(weightedPageRankings)"
   ]
  },
  {
   "cell_type": "code",
   "execution_count": 17,
   "id": "8e90b09e",
   "metadata": {},
   "outputs": [],
   "source": [
    "#first iteration\n",
    "for i in range(G.number_of_nodes()-1):\n",
    "    weightedPageRankings[i+1] = wpr(i+2)"
   ]
  },
  {
   "cell_type": "code",
   "execution_count": 18,
   "id": "c329124c",
   "metadata": {},
   "outputs": [
    {
     "name": "stdout",
     "output_type": "stream",
     "text": [
      "[1.         1.72728125 1.72728125 0.15      ]\n"
     ]
    }
   ],
   "source": [
    "print(weightedPageRankings) #after one iteration"
   ]
  },
  {
   "cell_type": "code",
   "execution_count": 21,
   "id": "11f6faf7",
   "metadata": {},
   "outputs": [],
   "source": [
    "for _ in range(iterations): #apply the same for the number of iterations specified by the user\n",
    "    for i in range(G.number_of_nodes()):\n",
    "        weightedPageRankings[i] = wpr(i+1)"
   ]
  },
  {
   "cell_type": "code",
   "execution_count": 22,
   "id": "ac3a6c0b",
   "metadata": {},
   "outputs": [
    {
     "name": "stdout",
     "output_type": "stream",
     "text": [
      "[0.2775     1.72728125 1.72728125 0.15      ]\n"
     ]
    }
   ],
   "source": [
    "print(weightedPageRankings)"
   ]
  },
  {
   "cell_type": "code",
   "execution_count": null,
   "id": "1366ea23",
   "metadata": {},
   "outputs": [],
   "source": []
  }
 ],
 "metadata": {
  "kernelspec": {
   "display_name": "Python 3 (ipykernel)",
   "language": "python",
   "name": "python3"
  },
  "language_info": {
   "codemirror_mode": {
    "name": "ipython",
    "version": 3
   },
   "file_extension": ".py",
   "mimetype": "text/x-python",
   "name": "python",
   "nbconvert_exporter": "python",
   "pygments_lexer": "ipython3",
   "version": "3.8.11"
  }
 },
 "nbformat": 4,
 "nbformat_minor": 5
}
