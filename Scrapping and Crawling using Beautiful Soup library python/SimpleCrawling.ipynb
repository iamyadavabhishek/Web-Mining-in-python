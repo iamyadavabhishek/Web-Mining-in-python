{
 "cells": [
  {
   "cell_type": "markdown",
   "id": "2403ab6f",
   "metadata": {},
   "source": [
    "a simple crawler to return all pages that contains a string “crawler\" from this site: https://en.wikipedia.org/wiki/Web_mining"
   ]
  },
  {
   "cell_type": "code",
   "execution_count": 8,
   "id": "04a1a800",
   "metadata": {},
   "outputs": [],
   "source": [
    "import urllib\n",
    "import bs4\n",
    "import re\n",
    "\n",
    "def findWord(m,url,i):\n",
    "    try:\n",
    "        h = urllib.request.urlopen(m + url[i])\n",
    "    except urllib.error.HTTPError as e:\n",
    "        print('HTTP error')\n",
    "    except IndexError:\n",
    "        print('word not found')\n",
    "        return None\n",
    "    b = bs4.BeautifulSoup(h.read())\n",
    "    if(b.find(text = \"crawler\")):\n",
    "        print(\"{0}  {1}\\n\".format(i,(m+url[i])))\n",
    "    findWord(m,url,i+1)"
   ]
  },
  {
   "cell_type": "code",
   "execution_count": 9,
   "id": "5d82a2e6",
   "metadata": {},
   "outputs": [
    {
     "name": "stdout",
     "output_type": "stream",
     "text": [
      "151\n",
      "12  https://en.wikipedia.org/wiki/Hyperlink\n",
      "\n",
      "50  https://en.wikipedia.org/wiki/Hyperlink\n",
      "\n",
      "word not found\n"
     ]
    }
   ],
   "source": [
    "if __name__ == \"__main__\":\n",
    "        \n",
    "    try:\n",
    "        m = \"https://en.wikipedia.org\"\n",
    "        html = urllib.request.urlopen(\"https://en.wikipedia.org/wiki/Web_mining\")\n",
    "    except urllib.error.HTTPError as e:\n",
    "        print('HTTP error')\n",
    "    bs = bs4.BeautifulSoup(html.read())\n",
    "    url = []\n",
    "    links = bs.findAll(\"a\", href = re.compile(r\"^(/wiki/)\"))\n",
    "    for link in links:\n",
    "        if \"href\" in link.attrs:\n",
    "            url.append(link.attrs['href'])\n",
    "    i = 0\n",
    "    print(len(url))\n",
    "    findWord(m,url,i)"
   ]
  },
  {
   "cell_type": "code",
   "execution_count": null,
   "id": "c72e8189",
   "metadata": {},
   "outputs": [],
   "source": []
  }
 ],
 "metadata": {
  "kernelspec": {
   "display_name": "Python 3 (ipykernel)",
   "language": "python",
   "name": "python3"
  },
  "language_info": {
   "codemirror_mode": {
    "name": "ipython",
    "version": 3
   },
   "file_extension": ".py",
   "mimetype": "text/x-python",
   "name": "python",
   "nbconvert_exporter": "python",
   "pygments_lexer": "ipython3",
   "version": "3.8.11"
  }
 },
 "nbformat": 4,
 "nbformat_minor": 5
}
