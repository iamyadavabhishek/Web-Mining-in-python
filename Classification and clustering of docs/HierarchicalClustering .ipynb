{
 "cells": [
  {
   "cell_type": "code",
   "execution_count": 92,
   "id": "e9fe513b",
   "metadata": {},
   "outputs": [],
   "source": [
    "import pandas as pd\n",
    "import numpy as np\n",
    "import matplotlib.pyplot as plt\n",
    "%matplotlib inline"
   ]
  },
  {
   "cell_type": "code",
   "execution_count": 93,
   "id": "fe4f8bcb",
   "metadata": {},
   "outputs": [],
   "source": [
    "d1 = \"Electric automotive maker Tesla Inc. is likely to introduce its products in India sometime in the summer of 2017.\"\n",
    "d2 = \"Automotive major Mahindra likely to introduce driverless cars\"\n",
    "d3 = \"BMW plans to introduce its own motorcycles in india\"\n",
    "d4 = \"Just drive, a self-drive car rental firm uses smart vehicle technology based on IoT\"\n",
    "d5 = \"Automotive industry going to hire thousands in 2018\"\n",
    "d6 = \"Famous cricket player  Dhoni brought his priced car Hummer which is an SUV\"\n",
    "d7 = \"Dhoni led india to its second world cup victory\"\n",
    "d8 = \"IoT in cars will lead to more safety and make driverless vehicle revolution possible\"\n",
    "d9 = \"Sachin recommended Dhoni for the indian skipper post\""
   ]
  },
  {
   "cell_type": "code",
   "execution_count": 94,
   "id": "d18b08cf",
   "metadata": {},
   "outputs": [],
   "source": [
    "label = ['automotive','car','motorcycles','self-drive','ioi','hire','dhoni']"
   ]
  },
  {
   "cell_type": "code",
   "execution_count": 95,
   "id": "48d74d9f",
   "metadata": {},
   "outputs": [],
   "source": [
    "X = np.array([[list(d1.lower().split()).count(i) for i in label],\n",
    "                [list(d2.lower().split()).count(i) for i in label],\n",
    "                [list(d3.lower().split()).count(i) for i in label],\n",
    "                [list(d4.lower().split()).count(i) for i in label],\n",
    "                [list(d5.lower().split()).count(i) for i in label],\n",
    "                [list(d6.lower().split()).count(i) for i in label],\n",
    "                [list(d7.lower().split()).count(i) for i in label],\n",
    "                [list(d8.lower().split()).count(i) for i in label],\n",
    "                [list(d9.lower().split()).count(i) for i in label]])"
   ]
  },
  {
   "cell_type": "code",
   "execution_count": 96,
   "id": "471fa682",
   "metadata": {},
   "outputs": [
    {
     "name": "stdout",
     "output_type": "stream",
     "text": [
      "[[1 0 0 0 0 0 0]\n",
      " [1 0 0 0 0 0 0]\n",
      " [0 0 1 0 0 0 0]\n",
      " [0 1 0 1 0 0 0]\n",
      " [1 0 0 0 0 1 0]\n",
      " [0 1 0 0 0 0 1]\n",
      " [0 0 0 0 0 0 1]\n",
      " [0 0 0 0 0 0 0]\n",
      " [0 0 0 0 0 0 1]]\n"
     ]
    }
   ],
   "source": [
    "print(X)"
   ]
  },
  {
   "cell_type": "code",
   "execution_count": 117,
   "id": "ba346678",
   "metadata": {},
   "outputs": [
    {
     "data": {
      "image/png": "[encoded data removed]",
      "text/plain": [
       "<Figure size 720x504 with 1 Axes>"
      ]
     },
     "metadata": {
      "needs_background": "light"
     },
     "output_type": "display_data"
    }
   ],
   "source": [
    "from scipy.cluster.hierarchy import dendrogram, linkage\n",
    "linked1 = linkage(X, method = 'single', metric = 'cityblock')\n",
    "labelList = ['d1','d2','d3','d4','d5','d6','d7','d8','d9']\n",
    "plt.figure(figsize=(10, 7))\n",
    "dendrogram(linked1,\n",
    "            orientation='top',\n",
    "            labels=labelList,\n",
    "            distance_sort='descending',\n",
    "            show_leaf_counts=True)\n",
    "plt.show()"
   ]
  },
  {
   "cell_type": "code",
   "execution_count": 118,
   "id": "63ba72bf",
   "metadata": {},
   "outputs": [
    {
     "data": {
      "image/png": "[encoded data removed]",
      "text/plain": [
       "<Figure size 720x504 with 1 Axes>"
      ]
     },
     "metadata": {
      "needs_background": "light"
     },
     "output_type": "display_data"
    }
   ],
   "source": [
    "from scipy.cluster.hierarchy import dendrogram, linkage\n",
    "linked2 = linkage(X, method = 'complete', metric = 'cityblock')\n",
    "labelList = ['d1','d2','d3','d4','d5','d6','d7','d8','d9']\n",
    "plt.figure(figsize=(10, 7))\n",
    "dendrogram(linked2,\n",
    "            orientation='top',\n",
    "            labels=labelList,\n",
    "            distance_sort='descending',\n",
    "            show_leaf_counts=True)\n",
    "plt.show()"
   ]
  },
  {
   "cell_type": "code",
   "execution_count": 119,
   "id": "ff7102a0",
   "metadata": {},
   "outputs": [
    {
     "data": {
      "image/png": "[encoded data removed]",
      "text/plain": [
       "<Figure size 720x504 with 1 Axes>"
      ]
     },
     "metadata": {
      "needs_background": "light"
     },
     "output_type": "display_data"
    }
   ],
   "source": [
    "from scipy.cluster.hierarchy import dendrogram, linkage\n",
    "linked3 = linkage(X, method = 'average', metric = 'cityblock')\n",
    "labelList = ['d1','d2','d3','d4','d5','d6','d7','d8','d9']\n",
    "plt.figure(figsize=(10, 7))\n",
    "dendrogram(linked3,\n",
    "            orientation='top',\n",
    "            labels=labelList,\n",
    "            distance_sort='descending',\n",
    "            show_leaf_counts=True)\n",
    "plt.show()"
   ]
  },
  {
   "cell_type": "code",
   "execution_count": 100,
   "id": "a176bafb",
   "metadata": {},
   "outputs": [],
   "source": [
    "doc1 = open(\"Demonetisation hits electric vehicles industry_ Society of Manufacturers of Electric Vehicles _ India News,The Indian Express.txt\", encoding = 'utf-8')\n",
    "doc2 = open(\"Demonetisation_ Swipe, press, click and pay to go cashless _ India News,The Indian Express.txt\", encoding = 'utf-8')\n",
    "doc3 = open(\"Electric Vehicles This Week_ Centre Reduces GST On Lithium-Ion Batteries And More.txt\", encoding = 'utf-8')\n",
    "doc4 = open(\"Government plans new policy to promote electric vehicles - The Economic Times.txt\", encoding = 'utf-8')\n",
    "doc5 = open(\"GST_ Is GST helping the Indian economy for the better_.txt\", encoding = 'utf-8')\n",
    "doc6 = open(\"How demonetisation affected the Indian economy, in 10 charts.txt\", encoding = 'utf-8')\n",
    "doc7 = open(\"How GST Will Curb Tax Evasion.txt\", encoding = 'utf-8')\n",
    "doc8 = open(\"Impact Of Demonetisation On GDP, Jobs, And Indian Economy.txt\", encoding = 'utf-8')\n",
    "doc9 = open(\"Mahindra to launch India's first electric SUV in 2019_ All-new e-Verito sedan on cards - The Financial Express...txt\", encoding = 'utf-8')\n",
    "doc10 = open(\"Tesla Cars Price in India 2021, Electric Cars, Tesla Cars Images @ ZigWheels.txt\", encoding = 'utf-8')\n",
    "doc11 = open(\"Toyota Prius - Wikipedia.txt\", encoding = 'utf-8')"
   ]
  },
  {
   "cell_type": "code",
   "execution_count": 101,
   "id": "f75c0dbe",
   "metadata": {},
   "outputs": [],
   "source": [
    "labelsQues2 = ['tesla',' electric','car','pollution','de-monetisation','gst','blackmoney']"
   ]
  },
  {
   "cell_type": "code",
   "execution_count": 102,
   "id": "11b60e7d",
   "metadata": {},
   "outputs": [],
   "source": [
    "from nltk.stem import WordNetLemmatizer\n",
    "lem = WordNetLemmatizer()\n",
    "def clean(content):\n",
    "    content = content.lower().replace(\"vehicle\",\"car\")\n",
    "    content = content.lower().replace(\"automobile\",\"car\")\n",
    "    content = content.lower().replace(\"black money\",\"blackmoney\")\n",
    "    newContent = ''\n",
    "    for i in content.split():\n",
    "        word = i\n",
    "        word = lem.lemmatize(i)\n",
    "        newContent = newContent + ' ' + word\n",
    "    return newContent"
   ]
  },
  {
   "cell_type": "code",
   "execution_count": 103,
   "id": "e79dae90",
   "metadata": {},
   "outputs": [],
   "source": [
    "doc1 = clean(doc1.read())\n",
    "doc2 = clean(doc2.read())\n",
    "doc3 = clean(doc3.read())\n",
    "doc4 = clean(doc4.read())\n",
    "doc5 = clean(doc5.read())\n",
    "doc6 = clean(doc6.read())\n",
    "doc7 = clean(doc7.read())\n",
    "doc8 = clean(doc8.read())\n",
    "doc9 = clean(doc9.read())\n",
    "doc10 = clean(doc10.read())\n",
    "doc11 = clean(doc11.read())"
   ]
  },
  {
   "cell_type": "code",
   "execution_count": 104,
   "id": "c90c5e01",
   "metadata": {},
   "outputs": [],
   "source": [
    "Xques2 = np.array([[list(doc1.lower().split()).count(i) for i in labelsQues2],\n",
    "                [list(doc2.lower().split()).count(i) for i in labelsQues2],\n",
    "                [list(doc3.lower().split()).count(i) for i in labelsQues2],\n",
    "                [list(doc4.lower().split()).count(i) for i in labelsQues2],\n",
    "                [list(doc5.lower().split()).count(i) for i in labelsQues2],\n",
    "                [list(doc6.lower().split()).count(i) for i in labelsQues2],\n",
    "                [list(doc7.lower().split()).count(i) for i in labelsQues2],\n",
    "                [list(doc8.lower().split()).count(i) for i in labelsQues2],\n",
    "                [list(doc9.lower().split()).count(i) for i in labelsQues2],\n",
    "                [list(doc10.lower().split()).count(i) for i in labelsQues2],\n",
    "                [list(doc11.lower().split()).count(i) for i in labelsQues2]])"
   ]
  },
  {
   "cell_type": "code",
   "execution_count": 105,
   "id": "2036ce7c",
   "metadata": {},
   "outputs": [
    {
     "name": "stdout",
     "output_type": "stream",
     "text": [
      "[[  0   0  27   0   0   0   2]\n",
      " [  0   0   0   0   0   0   0]\n",
      " [  0   0  66   0   0  17   0]\n",
      " [  0   0  27   0   0   0   0]\n",
      " [  0   0   0   0   0  46   0]\n",
      " [  0   0   1   0   0   0   1]\n",
      " [  0   0   0   0   0  64   0]\n",
      " [  0   0   0   0   0   0   6]\n",
      " [  0   0  30   0   0   0   0]\n",
      " [ 49   0  64   0   0   0   0]\n",
      " [  1   0 188   1   0   0   0]]\n"
     ]
    }
   ],
   "source": [
    "print(Xques2)"
   ]
  },
  {
   "cell_type": "code",
   "execution_count": 120,
   "id": "7977fa03",
   "metadata": {},
   "outputs": [
    {
     "data": {
      "image/png": "[encoded data removed]",
      "text/plain": [
       "<Figure size 720x504 with 1 Axes>"
      ]
     },
     "metadata": {
      "needs_background": "light"
     },
     "output_type": "display_data"
    }
   ],
   "source": [
    "linkedQues2_1 = linkage(Xques2, method = 'single', metric = 'cityblock')\n",
    "labelListques2 = ['d1','d2','d3','d4','d5','d6','d7','d8','d9','d10','d11']\n",
    "plt.figure(figsize=(10, 7))\n",
    "dendrogram(linkedQues2_1,\n",
    "            orientation='top',\n",
    "            labels=labelListques2,\n",
    "            distance_sort='descending',\n",
    "            show_leaf_counts=True)\n",
    "plt.show()"
   ]
  },
  {
   "cell_type": "code",
   "execution_count": 121,
   "id": "c2973a9f",
   "metadata": {},
   "outputs": [
    {
     "data": {
      "image/png": "[encoded data removed]",
      "text/plain": [
       "<Figure size 720x504 with 1 Axes>"
      ]
     },
     "metadata": {
      "needs_background": "light"
     },
     "output_type": "display_data"
    }
   ],
   "source": [
    "linkedQues2_2 = linkage(Xques2, method = 'complete', metric = 'cityblock')\n",
    "labelListques2 = ['d1','d2','d3','d4','d5','d6','d7','d8','d9','d10','d11']\n",
    "plt.figure(figsize=(10, 7))\n",
    "dendrogram(linkedQues2_2,\n",
    "            orientation='top',\n",
    "            labels=labelListques2,\n",
    "            distance_sort='descending',\n",
    "            show_leaf_counts=True)\n",
    "plt.show()"
   ]
  },
  {
   "cell_type": "code",
   "execution_count": 122,
   "id": "0e37f0bb",
   "metadata": {},
   "outputs": [
    {
     "data": {
      "image/png": "[encoded data removed]",
      "text/plain": [
       "<Figure size 720x504 with 1 Axes>"
      ]
     },
     "metadata": {
      "needs_background": "light"
     },
     "output_type": "display_data"
    }
   ],
   "source": [
    "linkedQues2_3 = linkage(Xques2, method = 'average', metric = 'cityblock')\n",
    "labelListques2 = ['d1','d2','d3','d4','d5','d6','d7','d8','d9','d10','d11']\n",
    "plt.figure(figsize=(10, 7))\n",
    "dendrogram(linkedQues2_3,\n",
    "            orientation='top',\n",
    "            labels=labelListques2,\n",
    "            distance_sort='descending',\n",
    "            show_leaf_counts=True)\n",
    "plt.show()"
   ]
  }
 ],
 "metadata": {
  "kernelspec": {
   "display_name": "Python 3 (ipykernel)",
   "language": "python",
   "name": "python3"
  },
  "language_info": {
   "codemirror_mode": {
    "name": "ipython",
    "version": 3
   },
   "file_extension": ".py",
   "mimetype": "text/x-python",
   "name": "python",
   "nbconvert_exporter": "python",
   "pygments_lexer": "ipython3",
   "version": "3.8.11"
  }
 },
 "nbformat": 4,
 "nbformat_minor": 5
}
