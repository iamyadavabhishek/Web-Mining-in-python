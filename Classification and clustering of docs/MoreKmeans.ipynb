{
 "cells": [
  {
   "cell_type": "code",
   "execution_count": 1,
   "id": "b1c5bb62",
   "metadata": {},
   "outputs": [],
   "source": [
    "import numpy as np\n",
    "import pandas as pd\n",
    "import nltk\n",
    "import re\n",
    "import os\n",
    "import codecs\n",
    "from sklearn import feature_extraction"
   ]
  },
  {
   "cell_type": "code",
   "execution_count": 8,
   "id": "be524dfc",
   "metadata": {},
   "outputs": [
    {
     "name": "stderr",
     "output_type": "stream",
     "text": [
      "[nltk_data] Downloading package stopwords to\n",
      "[nltk_data]     C:\\Users\\acer\\AppData\\Roaming\\nltk_data...\n",
      "[nltk_data]   Package stopwords is already up-to-date!\n",
      "[nltk_data] Downloading package wordnet to\n",
      "[nltk_data]     C:\\Users\\acer\\AppData\\Roaming\\nltk_data...\n",
      "[nltk_data]   Package wordnet is already up-to-date!\n"
     ]
    }
   ],
   "source": [
    "from nltk.corpus import stopwords\n",
    "from nltk.stem.wordnet import WordNetLemmatizer\n",
    "lemma=WordNetLemmatizer()\n",
    "import string\n",
    "nltk.download('stopwords')\n",
    "stop=set(stopwords.words('english'))\n",
    "nltk.download('wordnet')\n",
    "exclude=set(string.punctuation)"
   ]
  },
  {
   "cell_type": "code",
   "execution_count": 9,
   "id": "e7a09f08",
   "metadata": {},
   "outputs": [],
   "source": [
    "def clean(doc):\n",
    "    stop_free = \" \".join([i for i in doc.lower().split() if i not in stop])\n",
    "    punc_free = ''.join(ch for ch in stop_free if ch not in exclude) \n",
    "    normalized = \" \".join(lemma.lemmatize(word) for word in punc_free.split()) \n",
    "    return normalized"
   ]
  },
  {
   "cell_type": "code",
   "execution_count": 10,
   "id": "d8d10143",
   "metadata": {},
   "outputs": [],
   "source": [
    "doc1='Apple iPhone 12 Pro models are available at a discount on Amazon India.'\n",
    "doc2='Parag was the unanimous choice for Twitter CEO.'\n",
    "doc3='Facial Recognition Technology has not yet been introduced at any of the airports in India.'\n",
    "doc4='Apple is providing a discount of roughly Rs 25,000.'\n",
    "doc5='Parag hinted towards more such leadership changes.'\n",
    "doc6='Airports Authority of India is working on a project of Facial Recognition Technology based Biometric Boarding System'\n",
    "doc7='On Amazon, a 128GB iPhone 13 costs Rs 79,900.'"
   ]
  },
  {
   "cell_type": "code",
   "execution_count": 31,
   "id": "d6580424",
   "metadata": {},
   "outputs": [],
   "source": [
    "label=['apple','iphone','twitter','amazon','parag','technology','india']"
   ]
  },
  {
   "cell_type": "code",
   "execution_count": 32,
   "id": "624fa034",
   "metadata": {},
   "outputs": [],
   "source": [
    "doc1=clean(doc1)\n",
    "doc2=clean(doc2)\n",
    "doc3=clean(doc3)\n",
    "doc4=clean(doc4)\n",
    "doc5=clean(doc5)\n",
    "doc6=clean(doc6)\n",
    "doc7=clean(doc7)"
   ]
  },
  {
   "cell_type": "code",
   "execution_count": 33,
   "id": "98e62e5e",
   "metadata": {},
   "outputs": [
    {
     "name": "stdout",
     "output_type": "stream",
     "text": [
      "apple iphone 12 pro model available discount amazon india\n",
      "parag unanimous choice twitter ceo\n",
      "facial recognition technology yet introduced airport india\n",
      "apple providing discount roughly r 25000\n",
      "parag hinted towards leadership change\n",
      "airport authority india working project facial recognition technology based biometric boarding system\n",
      "amazon 128gb iphone 13 cost r 79900\n"
     ]
    }
   ],
   "source": [
    "print(*[doc1,doc2,doc3,doc4,doc5,doc6,doc7],sep=\"\\n\")"
   ]
  },
  {
   "cell_type": "code",
   "execution_count": 35,
   "id": "9c00eeb7",
   "metadata": {},
   "outputs": [],
   "source": [
    "X = np.array([[list(doc1.lower().split()).count(i) for i in label],\n",
    "                [list(doc2.lower().split()).count(i) for i in label],\n",
    "                [list(doc3.lower().split()).count(i) for i in label],\n",
    "                [list(doc4.lower().split()).count(i) for i in label],\n",
    "                [list(doc5.lower().split()).count(i) for i in label],\n",
    "                [list(doc6.lower().split()).count(i) for i in label],\n",
    "                [list(doc7.lower().split()).count(i) for i in label]])"
   ]
  },
  {
   "cell_type": "code",
   "execution_count": 36,
   "id": "43a87465",
   "metadata": {},
   "outputs": [
    {
     "data": {
      "text/plain": [
       "array([[1, 1, 0, 1, 0, 0, 1],\n",
       "       [0, 0, 1, 0, 1, 0, 0],\n",
       "       [0, 0, 0, 0, 0, 1, 1],\n",
       "       [1, 0, 0, 0, 0, 0, 0],\n",
       "       [0, 0, 0, 0, 1, 0, 0],\n",
       "       [0, 0, 0, 0, 0, 1, 1],\n",
       "       [0, 1, 0, 1, 0, 0, 0]])"
      ]
     },
     "execution_count": 36,
     "metadata": {},
     "output_type": "execute_result"
    }
   ],
   "source": [
    "X #vector space model"
   ]
  },
  {
   "cell_type": "code",
   "execution_count": 37,
   "id": "e00ee2cb",
   "metadata": {},
   "outputs": [
    {
     "name": "stdout",
     "output_type": "stream",
     "text": [
      "7\n"
     ]
    }
   ],
   "source": [
    "#first we try for value of k=3\n",
    "from sklearn.cluster import KMeans\n",
    "k = 3\n",
    "km = KMeans(n_clusters=k)\n",
    "km.fit(X)\n",
    "clusters = km.labels_.tolist()\n",
    "print(len(clusters))"
   ]
  },
  {
   "cell_type": "code",
   "execution_count": 40,
   "id": "02b1493d",
   "metadata": {},
   "outputs": [],
   "source": [
    "cluster1 = []\n",
    "cluster2 = []\n",
    "cluster3 = []\n",
    "temp = 1\n",
    "for i in clusters:\n",
    "    if i == 0:\n",
    "        cluster1.append(eval(\"doc{}\".format(temp)))\n",
    "    elif i == 1:\n",
    "        cluster2.append(eval(\"doc{}\".format(temp)))\n",
    "    else:\n",
    "        cluster3.append(eval(\"doc{}\".format(temp)))\n",
    "    temp+=1"
   ]
  },
  {
   "cell_type": "code",
   "execution_count": 43,
   "id": "a91ad37a",
   "metadata": {},
   "outputs": [
    {
     "name": "stdout",
     "output_type": "stream",
     "text": [
      "cluster no. 1 contains\n",
      "['apple iphone 12 pro model available discount amazon india', 'amazon 128gb iphone 13 cost r 79900']\n",
      "cluster no. 2 contains\n",
      "['parag unanimous choice twitter ceo', 'apple providing discount roughly r 25000', 'parag hinted towards leadership change']\n",
      "cluster no. 3 contains\n",
      "['facial recognition technology yet introduced airport india', 'airport authority india working project facial recognition technology based biometric boarding system']\n"
     ]
    }
   ],
   "source": [
    "print(\"cluster no. 1 contains\",cluster1,sep=\"\\n\")\n",
    "print(\"cluster no. 2 contains\",cluster2,sep=\"\\n\")\n",
    "print(\"cluster no. 3 contains\",cluster3,sep=\"\\n\")"
   ]
  },
  {
   "cell_type": "code",
   "execution_count": 58,
   "id": "25062917",
   "metadata": {},
   "outputs": [
    {
     "name": "stdout",
     "output_type": "stream",
     "text": [
      "7\n"
     ]
    }
   ],
   "source": [
    "#for k=2\n",
    "k2 = 2\n",
    "km2 = KMeans(n_clusters=k2)\n",
    "km2.fit(X)\n",
    "clusters2 = km2.labels_.tolist()\n",
    "print(len(clusters2))"
   ]
  },
  {
   "cell_type": "code",
   "execution_count": 62,
   "id": "b6947d08",
   "metadata": {},
   "outputs": [],
   "source": [
    "cluster1_2 = []\n",
    "cluster2_2 = []\n",
    "temp = 1\n",
    "for i in clusters2:\n",
    "    if i == 0:\n",
    "        cluster1_2.append(eval(\"doc{}\".format(temp)))\n",
    "    elif i == 1:\n",
    "        cluster2_2.append(eval(\"doc{}\".format(temp)))\n",
    "    temp+=1"
   ]
  },
  {
   "cell_type": "code",
   "execution_count": 63,
   "id": "65ff7434",
   "metadata": {},
   "outputs": [
    {
     "name": "stdout",
     "output_type": "stream",
     "text": [
      "cluster no. 1 contains\n",
      "['parag unanimous choice twitter ceo', 'facial recognition technology yet introduced airport india', 'apple providing discount roughly r 25000', 'parag hinted towards leadership change', 'airport authority india working project facial recognition technology based biometric boarding system']\n",
      "cluster no. 2 contains\n",
      "['apple iphone 12 pro model available discount amazon india', 'amazon 128gb iphone 13 cost r 79900']\n"
     ]
    }
   ],
   "source": [
    "print(\"cluster no. 1 contains\",cluster1_2,sep=\"\\n\")\n",
    "print(\"cluster no. 2 contains\",cluster2_2,sep=\"\\n\")"
   ]
  },
  {
   "cell_type": "code",
   "execution_count": null,
   "id": "c6896ad4",
   "metadata": {},
   "outputs": [],
   "source": []
  }
 ],
 "metadata": {
  "kernelspec": {
   "display_name": "Python 3 (ipykernel)",
   "language": "python",
   "name": "python3"
  },
  "language_info": {
   "codemirror_mode": {
    "name": "ipython",
    "version": 3
   },
   "file_extension": ".py",
   "mimetype": "text/x-python",
   "name": "python",
   "nbconvert_exporter": "python",
   "pygments_lexer": "ipython3",
   "version": "3.8.11"
  }
 },
 "nbformat": 4,
 "nbformat_minor": 5
}
